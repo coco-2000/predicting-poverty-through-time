{
 "cells": [
  {
   "cell_type": "markdown",
   "metadata": {},
   "source": [
    "# Download LSMS\n",
    "This repo helps you to download the LSMS data. It still requires manual work, but reduces it. "
   ]
  },
  {
   "cell_type": "code",
   "execution_count": 1,
   "metadata": {},
   "outputs": [],
   "source": [
    "from bs4 import BeautifulSoup\n",
    "from tqdm import tqdm\n",
    "\n",
    "import json\n",
    "import os\n",
    "import pandas as pd\n",
    "import re\n",
    "import requests"
   ]
  },
  {
   "cell_type": "code",
   "execution_count": 2,
   "metadata": {},
   "outputs": [],
   "source": [
    "df: pd.DataFrame = pd.read_csv(\"../../data/countries_meta/counties_lsms_time_valid.csv\")"
   ]
  },
  {
   "cell_type": "markdown",
   "metadata": {},
   "source": [
    "You have to specify you World Bank login data in the accounts json, or just remove the following block and hard code you data in the block after. Please be careful to not push it to a public repository or to one which you will make once public.\n",
    "\n",
    "The json file should lay on the top level of the project."
   ]
  },
  {
   "cell_type": "code",
   "execution_count": 3,
   "metadata": {},
   "outputs": [],
   "source": [
    "with open(\"../../accounts.json\", \"r\") as f:\n",
    "    auth_data: any = json.load(f)"
   ]
  },
  {
   "cell_type": "code",
   "execution_count": 4,
   "metadata": {},
   "outputs": [],
   "source": [
    "user: str = auth_data[\"worldbank\"][\"user\"]\n",
    "pw: str = auth_data[\"worldbank\"][\"pw\"]"
   ]
  },
  {
   "cell_type": "markdown",
   "metadata": {},
   "source": [
    "Perform Login"
   ]
  },
  {
   "cell_type": "code",
   "execution_count": 5,
   "metadata": {},
   "outputs": [],
   "source": [
    "def login(session: requests.Session, user: str, pw: str) -> None:\n",
    "    \"\"\"Performs the login.\n",
    "\n",
    "    Args:\n",
    "        session (requests.Session): Session\n",
    "        user (str): Username\n",
    "        pw (str): Password\n",
    "    \"\"\"\n",
    "    login_url: str = \"https://microdata.worldbank.org/index.php/auth/login\"\n",
    "    login_params: dict[str] = {\n",
    "        \"email\": user,\n",
    "        \"password\": pw,\n",
    "        \"submit\": \"Login\"\n",
    "    }\n",
    "    session.post(login_url, data=login_params)"
   ]
  },
  {
   "cell_type": "code",
   "execution_count": 6,
   "metadata": {},
   "outputs": [],
   "source": [
    "session: requests.Session = requests.Session()\n",
    "login(session, user, pw)"
   ]
  },
  {
   "cell_type": "markdown",
   "metadata": {},
   "source": [
    "Consent"
   ]
  },
  {
   "cell_type": "code",
   "execution_count": 7,
   "metadata": {},
   "outputs": [
    {
     "name": "stderr",
     "output_type": "stream",
     "text": [
      "100%|██████████| 74/74 [00:58<00:00,  1.26it/s]\n"
     ]
    }
   ],
   "source": [
    "for _, row in tqdm(df.iterrows(), total=len(df)):\n",
    "    url: str = row[\"url\"]\n",
    "    surveyid: str = url.split(\"/\")[-1]\n",
    "    res: any = session.get(url + \"/get-microdata\").content\n",
    "    soup: any = BeautifulSoup(res)\n",
    "    surveytitle: str = soup.find(\"h1\", {\"id\": \"dataset-title\"}).span.text\n",
    "    submitparam: dict[str] = {\n",
    "        \"surveytitle\": surveytitle,\n",
    "        \"surveyid\": surveyid,\n",
    "        \"id\": \"\",\n",
    "        \"abstract\": \"Research project to predict poverty.\",\n",
    "        \"chk_agree\": \"on\",\n",
    "        \"submit\": \"Submit\"\n",
    "    }\n",
    "\n",
    "    session.post(url + \"/get-microdata\", data=submitparam)\n"
   ]
  },
  {
   "cell_type": "markdown",
   "metadata": {},
   "source": [
    "Download (it is working). You have to check for false positives in the end anyways. Just to reduce the click work."
   ]
  },
  {
   "cell_type": "code",
   "execution_count": 8,
   "metadata": {},
   "outputs": [
    {
     "name": "stderr",
     "output_type": "stream",
     "text": [
      " 15%|█▍        | 11/74 [02:07<12:04, 11.49s/it]"
     ]
    },
    {
     "name": "stdout",
     "output_type": "stream",
     "text": [
      "https://microdata.worldbank.org/index.php/catalog/2331\n"
     ]
    },
    {
     "name": "stderr",
     "output_type": "stream",
     "text": [
      " 18%|█▊        | 13/74 [02:10<06:36,  6.50s/it]"
     ]
    },
    {
     "name": "stdout",
     "output_type": "stream",
     "text": [
      "https://microdata.worldbank.org/index.php/catalog/2315\n"
     ]
    },
    {
     "name": "stderr",
     "output_type": "stream",
     "text": [
      " 20%|██        | 15/74 [02:14<04:11,  4.26s/it]"
     ]
    },
    {
     "name": "stdout",
     "output_type": "stream",
     "text": [
      "https://microdata.worldbank.org/index.php/catalog/2314\n"
     ]
    },
    {
     "name": "stderr",
     "output_type": "stream",
     "text": [
      " 22%|██▏       | 16/74 [02:15<03:08,  3.25s/it]"
     ]
    },
    {
     "name": "stdout",
     "output_type": "stream",
     "text": [
      "https://microdata.worldbank.org/index.php/catalog/2313\n"
     ]
    },
    {
     "name": "stderr",
     "output_type": "stream",
     "text": [
      " 28%|██▊       | 21/74 [03:59<20:40, 23.40s/it]"
     ]
    },
    {
     "name": "stdout",
     "output_type": "stream",
     "text": [
      "https://microdata.worldbank.org/index.php/catalog/3016\n"
     ]
    },
    {
     "name": "stderr",
     "output_type": "stream",
     "text": [
      " 61%|██████    | 45/74 [10:44<06:33, 13.56s/it]"
     ]
    },
    {
     "name": "stdout",
     "output_type": "stream",
     "text": [
      "https://microdata.worldbank.org/index.php/catalog/3062\n"
     ]
    },
    {
     "name": "stderr",
     "output_type": "stream",
     "text": [
      " 62%|██████▏   | 46/74 [10:45<04:34,  9.80s/it]"
     ]
    },
    {
     "name": "stdout",
     "output_type": "stream",
     "text": [
      "https://microdata.worldbank.org/index.php/catalog/2882\n"
     ]
    },
    {
     "name": "stderr",
     "output_type": "stream",
     "text": [
      " 64%|██████▎   | 47/74 [10:46<03:14,  7.19s/it]"
     ]
    },
    {
     "name": "stdout",
     "output_type": "stream",
     "text": [
      "https://microdata.worldbank.org/index.php/catalog/1576\n"
     ]
    },
    {
     "name": "stderr",
     "output_type": "stream",
     "text": [
      " 65%|██████▍   | 48/74 [10:47<02:18,  5.34s/it]"
     ]
    },
    {
     "name": "stdout",
     "output_type": "stream",
     "text": [
      "https://microdata.worldbank.org/index.php/catalog/297\n"
     ]
    },
    {
     "name": "stderr",
     "output_type": "stream",
     "text": [
      " 66%|██████▌   | 49/74 [10:48<01:41,  4.07s/it]"
     ]
    },
    {
     "name": "stdout",
     "output_type": "stream",
     "text": [
      "https://microdata.worldbank.org/index.php/catalog/902\n"
     ]
    },
    {
     "name": "stderr",
     "output_type": "stream",
     "text": [
      "100%|██████████| 74/74 [19:36<00:00, 15.90s/it]\n"
     ]
    }
   ],
   "source": [
    "regex_csv: re.Pattern = re.compile(\".*CSV.*\")\n",
    "regex_spss: re.Pattern = re.compile(\".*SPSS.\")\n",
    "for _, row in tqdm(df.iterrows(), total=len(df)):\n",
    "    path = f\"../../data/lsms/raw/{row['name']}/{row['year']}\"\n",
    "    if not os.path.exists(path):\n",
    "        os.makedirs(path)\n",
    "    url: str = row[\"url\"]\n",
    "    res: requests.Response = session.get(url + \"/get-microdata\").content\n",
    "    soup: any = BeautifulSoup(res)\n",
    "    if \"Terms and conditions\" in [x.text for x in soup.findAll(\"h1\")]:\n",
    "        data: dict[str] = {\n",
    "            \"accept\": \"Accept\"\n",
    "        }\n",
    "        res = session.post(url + \"/get-microdata\", data=data).content\n",
    "        soup = BeautifulSoup(res)\n",
    "    try:\n",
    "        if soup.find(\"a\", {\"data-filename\": regex_csv}) == None:\n",
    "            regex = regex_spss\n",
    "        else:\n",
    "            regex = regex_csv\n",
    "        href: any = soup.find(\"a\", {\"data-filename\": regex})[\"href\"]\n",
    "        title: any = soup.find(\"a\", {\"data-filename\": regex})[\"title\"]\n",
    "\n",
    "        if os.path.exists(f\"{path}/{title}\"):\n",
    "            continue\n",
    "        res = session.get(href)\n",
    "        with open(f\"{path}/{title}\", \"wb\") as f:\n",
    "            f.write(res.content)\n",
    "    except:\n",
    "        print(url) # for manual work\n",
    "        login(session, user, pw)"
   ]
  },
  {
   "cell_type": "markdown",
   "metadata": {},
   "source": [
    "The following are missing and require manual work.:\n",
    "- [Ghana 1999](https://microdata.worldbank.org/index.php/catalog/2331): Data hosted on gov. server\n",
    "- [Ghana 1992](https://microdata.worldbank.org/index.php/catalog/2315): Data hosted on gov. server\n",
    "- [Ghana 1989](https://microdata.worldbank.org/index.php/catalog/2314): Data hosted on gov. server\n",
    "- [Ghana 1988](https://microdata.worldbank.org/index.php/catalog/2313): Data hosted on gov. server\n",
    "- [Malawi 2011](https://microdata.worldbank.org/index.php/catalog/3016): Other Term and No CSV\n",
    "- [South Africa 2015](https://microdata.worldbank.org/index.php/catalog/3062): Terms by worldbank\n",
    "- [South Africa 2015](https://microdata.worldbank.org/index.php/catalog/2882): Data hosted on gov. server\n",
    "- [South Africa 1999](https://microdata.worldbank.org/index.php/catalog/1576): Data hosted on gov. server\n",
    "- [South Africa 1993](https://microdata.worldbank.org/index.php/catalog/297): No CSV, or SPSS\n",
    "- [South Africa 1993](https://microdata.worldbank.org/index.php/catalog/902): Data hosted on gov. server"
   ]
  }
 ],
 "metadata": {
  "kernelspec": {
   "display_name": "Python 3.9.12 64-bit",
   "language": "python",
   "name": "python3"
  },
  "language_info": {
   "codemirror_mode": {
    "name": "ipython",
    "version": 3
   },
   "file_extension": ".py",
   "mimetype": "text/x-python",
   "name": "python",
   "nbconvert_exporter": "python",
   "pygments_lexer": "ipython3",
   "version": "3.9.12"
  },
  "orig_nbformat": 4,
  "vscode": {
   "interpreter": {
    "hash": "b0fa6594d8f4cbf19f97940f81e996739fb7646882a419484c72d19e05852a7e"
   }
  }
 },
 "nbformat": 4,
 "nbformat_minor": 2
}
